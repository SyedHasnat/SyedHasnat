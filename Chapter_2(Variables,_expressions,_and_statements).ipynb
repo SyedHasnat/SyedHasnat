{
  "nbformat": 4,
  "nbformat_minor": 0,
  "metadata": {
    "colab": {
      "name": "Chapter_2(Variables, expressions, and statements).ipynb",
      "provenance": [],
      "collapsed_sections": [],
      "authorship_tag": "ABX9TyPHA291KK+Y7xwIRNv/T1pS",
      "include_colab_link": true
    },
    "kernelspec": {
      "name": "python3",
      "display_name": "Python 3"
    },
    "language_info": {
      "name": "python"
    }
  },
  "cells": [
    {
      "cell_type": "markdown",
      "metadata": {
        "id": "view-in-github",
        "colab_type": "text"
      },
      "source": [
        "<a href=\"https://colab.research.google.com/github/SyedHasnat/SyedHasnat/blob/main/Chapter_2(Variables%2C_expressions%2C_and_statements).ipynb\" target=\"_parent\"><img src=\"https://colab.research.google.com/assets/colab-badge.svg\" alt=\"Open In Colab\"/></a>"
      ]
    },
    {
      "cell_type": "markdown",
      "source": [
        "**Introduction to Python** (Referece: Python For Everybody)\n",
        "*    Values and types\n",
        "*    Variables\n",
        "*  Variable names and keywords\n",
        "*   Statements\n",
        "*  Operators and operands\n",
        "*  Expressions\n",
        "*   Order of operations\n",
        "*   Modulus operator\n",
        "*  String operations\n",
        "*  Asking the user for input\n",
        "\n",
        "\n"
      ],
      "metadata": {
        "id": "C5rVTUE15nAg"
      }
    },
    {
      "cell_type": "markdown",
      "source": [
        "**Values and Types**"
      ],
      "metadata": {
        "id": "HvlEsUMi_SqQ"
      }
    },
    {
      "cell_type": "code",
      "source": [
        "#simply i want to print my name hasnat like cout<<\"hasnat\";(in c++)\n",
        "print('hasnat')\n",
        "print(6)"
      ],
      "metadata": {
        "colab": {
          "base_uri": "https://localhost:8080/"
        },
        "id": "D7F89GQT6Mpw",
        "outputId": "34cbe869-8087-4bd9-a4dd-66329b192212"
      },
      "execution_count": null,
      "outputs": [
        {
          "output_type": "stream",
          "name": "stdout",
          "text": [
            "hasnat\n",
            "6\n"
          ]
        }
      ]
    },
    {
      "cell_type": "code",
      "source": [
        "#here you can also check the data type wether it is float,string or integer etc\n",
        "a=3\n",
        "type(a)\n"
      ],
      "metadata": {
        "colab": {
          "base_uri": "https://localhost:8080/"
        },
        "id": "y8V2nhfr64Ey",
        "outputId": "cdd1e7bb-e31c-4ff4-abd7-96a397d447d6"
      },
      "execution_count": null,
      "outputs": [
        {
          "output_type": "execute_result",
          "data": {
            "text/plain": [
              "int"
            ]
          },
          "metadata": {},
          "execution_count": 7
        }
      ]
    },
    {
      "cell_type": "code",
      "source": [
        "b='hasnat' #just like you would not declare that it is float or string etc (string b; int a; //in c++)\n",
        "type(b)  "
      ],
      "metadata": {
        "colab": {
          "base_uri": "https://localhost:8080/"
        },
        "id": "PoVegC7b8D-3",
        "outputId": "19423d26-2a0e-4cb4-fc0c-deb2f16040b2"
      },
      "execution_count": null,
      "outputs": [
        {
          "output_type": "execute_result",
          "data": {
            "text/plain": [
              "str"
            ]
          },
          "metadata": {},
          "execution_count": 8
        }
      ]
    },
    {
      "cell_type": "code",
      "source": [
        "#you can also use the function type in this way like\n",
        "type(3.99)"
      ],
      "metadata": {
        "colab": {
          "base_uri": "https://localhost:8080/"
        },
        "id": "WaBpFGej8PMX",
        "outputId": "00517354-8276-49d0-b53c-72d280c8a133"
      },
      "execution_count": null,
      "outputs": [
        {
          "output_type": "execute_result",
          "data": {
            "text/plain": [
              "float"
            ]
          },
          "metadata": {},
          "execution_count": 9
        }
      ]
    },
    {
      "cell_type": "code",
      "source": [
        "#don't use commas in numeric values like\n",
        "print(10,000)"
      ],
      "metadata": {
        "colab": {
          "base_uri": "https://localhost:8080/"
        },
        "id": "EoOYK98O9xNh",
        "outputId": "ac56caed-757a-45cc-cb02-54a53e867839"
      },
      "execution_count": null,
      "outputs": [
        {
          "output_type": "stream",
          "name": "stdout",
          "text": [
            "10 0\n"
          ]
        }
      ]
    },
    {
      "cell_type": "code",
      "source": [
        "#now to print it properly you have to omit commas like\n",
        "print(10000)"
      ],
      "metadata": {
        "colab": {
          "base_uri": "https://localhost:8080/"
        },
        "id": "yzzvGFTv-fo6",
        "outputId": "b4cacf1e-c8ce-42a9-e102-dab7740d6a4e"
      },
      "execution_count": null,
      "outputs": [
        {
          "output_type": "stream",
          "name": "stdout",
          "text": [
            "10000\n"
          ]
        }
      ]
    },
    {
      "cell_type": "markdown",
      "source": [
        "**Variables**"
      ],
      "metadata": {
        "id": "zuQK6DMf_eZw"
      }
    },
    {
      "cell_type": "code",
      "source": [
        "#assihning a value to a variable \n",
        "a=3 #99a=3 is invalid due to a numer in the start a@=5 is inavlid due to character @\n",
        "#note that assignment statement produces no output although in MatLab it can produce"
      ],
      "metadata": {
        "id": "erJLRxQl-o21"
      },
      "execution_count": null,
      "outputs": []
    },
    {
      "cell_type": "markdown",
      "source": [
        "**Operators and operands**\n",
        " operators +, -, * , /, and ** perform addition, subtraction,multiplication, division and exponentiation"
      ],
      "metadata": {
        "id": "O0yNMU0aCDzx"
      }
    },
    {
      "cell_type": "code",
      "source": [
        "a=2\n",
        "b=3\n",
        "print(a+b)\n",
        "print(a-b)\n",
        "print(a*b)\n",
        "print(a/b)\n",
        "print(a**b)"
      ],
      "metadata": {
        "colab": {
          "base_uri": "https://localhost:8080/"
        },
        "id": "xKQqTjNvBeoo",
        "outputId": "ef5d1423-2774-4312-8901-b3fdfe45fbaa"
      },
      "execution_count": null,
      "outputs": [
        {
          "output_type": "stream",
          "name": "stdout",
          "text": [
            "5\n",
            "-1\n",
            "6\n",
            "0.6666666666666666\n",
            "8\n"
          ]
        }
      ]
    },
    {
      "cell_type": "code",
      "source": [
        ""
      ],
      "metadata": {
        "id": "iI_WjK_2CygA"
      },
      "execution_count": null,
      "outputs": []
    },
    {
      "cell_type": "markdown",
      "source": [
        "**Expressions**  expression is a combination of values, variables, and operators."
      ],
      "metadata": {
        "id": "EjZcVlblC8V_"
      }
    },
    {
      "cell_type": "code",
      "source": [
        "x=3\n",
        "sum=x+2\n",
        "print(sum)"
      ],
      "metadata": {
        "colab": {
          "base_uri": "https://localhost:8080/"
        },
        "id": "xpBierpdDDFP",
        "outputId": "68f5cf72-5c0a-4ba6-8b6d-e0108e18768e"
      },
      "execution_count": null,
      "outputs": [
        {
          "output_type": "stream",
          "name": "stdout",
          "text": [
            "5\n"
          ]
        }
      ]
    },
    {
      "cell_type": "markdown",
      "source": [
        "**Order of operations** \n",
        "For mathematical operators, Python follows mathematical convention. The acronym PEMDAS is a useful way to remember the rules\n",
        "paranthesis, exponent, multiplication, divivsion, addition, subtraction"
      ],
      "metadata": {
        "id": "GEZrRHzBDYrx"
      }
    },
    {
      "cell_type": "code",
      "source": [
        "#2**1+1 is 3, not 4, and 3*1**3 is 3, not 27\n",
        "print(2**1+1) \n",
        "print(3*1**3)"
      ],
      "metadata": {
        "colab": {
          "base_uri": "https://localhost:8080/"
        },
        "id": "UWCKlDCADWnT",
        "outputId": "dc6f6983-5959-44a6-f398-73ebd75107f9"
      },
      "execution_count": null,
      "outputs": [
        {
          "output_type": "stream",
          "name": "stdout",
          "text": [
            "3\n",
            "3\n"
          ]
        }
      ]
    },
    {
      "cell_type": "markdown",
      "source": [
        "**Modulus operator**"
      ],
      "metadata": {
        "id": "La3_ysbcEgpN"
      }
    },
    {
      "cell_type": "code",
      "source": [
        "quotient = 7 // 3 \n",
        "print(quotient)\n",
        "remainder = 7 % 3\n",
        "print(remainder)\n",
        "#simply by // this we can get quotient and by % we can get remainder just like C++"
      ],
      "metadata": {
        "colab": {
          "base_uri": "https://localhost:8080/"
        },
        "id": "FH8-q3W1Ec1d",
        "outputId": "6da722cf-e252-4603-f0e4-9821d37ef8c5"
      },
      "execution_count": null,
      "outputs": [
        {
          "output_type": "stream",
          "name": "stdout",
          "text": [
            "2\n",
            "1\n"
          ]
        }
      ]
    },
    {
      "cell_type": "markdown",
      "source": [
        "**String operations** "
      ],
      "metadata": {
        "id": "LyrnrfAXFZmE"
      }
    },
    {
      "cell_type": "code",
      "source": [
        "a='2'\n",
        "b='3'\n",
        "print(a+b) #here + is just to concatenate it's not mathematicall addition like\n",
        "a=2\n",
        "b=3\n",
        "print(a+b)\n"
      ],
      "metadata": {
        "colab": {
          "base_uri": "https://localhost:8080/"
        },
        "id": "ekGf-4rnFYyk",
        "outputId": "78173a2b-0fbc-42c0-c4d2-6c1dfa96798d"
      },
      "execution_count": null,
      "outputs": [
        {
          "output_type": "stream",
          "name": "stdout",
          "text": [
            "23\n",
            "5\n"
          ]
        }
      ]
    },
    {
      "cell_type": "markdown",
      "source": [
        "**Asking the user for input**"
      ],
      "metadata": {
        "id": "uEeuj_URGLD8"
      }
    },
    {
      "cell_type": "code",
      "source": [
        "city=input('enter your city name: ')\n",
        "print(city)"
      ],
      "metadata": {
        "colab": {
          "base_uri": "https://localhost:8080/"
        },
        "id": "iLGnlgXeGOBD",
        "outputId": "516e0416-1b69-470c-b717-d76da1e44f5b"
      },
      "execution_count": null,
      "outputs": [
        {
          "output_type": "stream",
          "name": "stdout",
          "text": [
            "enter your city name: Mardan\n",
            "Mardan\n"
          ]
        }
      ]
    },
    {
      "cell_type": "code",
      "source": [
        "#if you want to find area and you want the lenth should be entered by the user so what would you do\n",
        "length=input('length= ')\n",
        "width=input('width= ')\n",
        "#note the data taken by input funtion will be a string nature you can varif it by typing type(city)\n",
        "#for this first change the data type from string to int or float\n",
        "area=float(length)*float(width)\n",
        "print('area= ', area) "
      ],
      "metadata": {
        "colab": {
          "base_uri": "https://localhost:8080/"
        },
        "id": "rnkA6Oi_Gs3V",
        "outputId": "994ac158-27f6-4a12-f7e6-625918723d1c"
      },
      "execution_count": null,
      "outputs": [
        {
          "output_type": "stream",
          "name": "stdout",
          "text": [
            "length= 3\n",
            "width= 4\n",
            "area=  12.0\n"
          ]
        }
      ]
    }
  ]
}